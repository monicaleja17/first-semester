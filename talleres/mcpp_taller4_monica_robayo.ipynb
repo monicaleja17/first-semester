{
 "cells": [
  {
   "cell_type": "markdown",
   "metadata": {},
   "source": [
    "# Taller 4\n",
    "Métodos Computacionales para Políticas Públicas - URosario\n",
    "\n",
    "**Entrega: viernes 28-feb-2020 11:59 PM**"
   ]
  },
  {
   "cell_type": "markdown",
   "metadata": {},
   "source": [
    "<div class=\"alert alert-success\">\n",
    "\n",
    "**[Monica Alejandra Robayo Gonzalez]** <br><br>\n",
    "[monica.robayo@urosario.edu.co]\n",
    "</div>"
   ]
  },
  {
   "cell_type": "markdown",
   "metadata": {},
   "source": [
    "## Instrucciones:\n",
    "- Guarde una copia de este *Jupyter Notebook* en su computador, idealmente en una carpeta destinada al material del curso.\n",
    "- Modifique el nombre del archivo del *notebook*, agregando al final un guión inferior y su nombre y apellido, separados estos últimos por otro guión inferior. Por ejemplo, mi *notebook* se llamaría: mcpp_taller4_santiago_matallana\n",
    "- Marque el *notebook* con su nombre y e-mail en el bloque verde arriba. Reemplace el texto \"[Su nombre acá]\" con su nombre y apellido. Similar para su e-mail.\n",
    "- Desarrolle la totalidad del taller sobre este *notebook*, insertando las celdas que sea necesario debajo de cada pregunta. Haga buen uso de las celdas para código y de las celdas tipo *markdown* según el caso.\n",
    "- Recuerde salvar periódicamente sus avances.\n",
    "- Cuando termine el taller:\n",
    "    1. Descárguelo en PDF.\n",
    "    2. Suba los dos archivos (.pdf y .ipynb) a su repositorio en GitHub antes de la fecha y hora límites.\n",
    "\n",
    "(Todos los ejercicios tienen el mismo valor.)"
   ]
  },
  {
   "cell_type": "markdown",
   "metadata": {},
   "source": [
    "---"
   ]
  },
  {
   "cell_type": "markdown",
   "metadata": {},
   "source": [
    "## Zelle, Exercises 6.8 (p. 159):\n",
    "\n",
    "- True/False: 1-10\n",
    "- Multiple choice: 2, 3, 6, 7, 10\n",
    "- Programming Exercises: 1, 3, 4, 11, 12, 13"
   ]
  },
  {
   "cell_type": "markdown",
   "metadata": {},
   "source": [
    "# 1. True/False"
   ]
  },
  {
   "cell_type": "markdown",
   "metadata": {},
   "source": [
    "1 = False\n",
    "\n",
    "2 = False\n",
    "\n",
    "3 = True\n",
    "\n",
    "4 = True\n",
    "\n",
    "5 = False\n",
    "\n",
    "6 = False\n",
    "\n",
    "7 = False\n",
    "\n",
    "8 = True\n",
    "\n",
    "9 = True\n",
    "\n",
    "10 = False"
   ]
  },
  {
   "cell_type": "markdown",
   "metadata": {},
   "source": [
    "# 2. Multiple choice: 2, 3, 6, 7, 10"
   ]
  },
  {
   "cell_type": "markdown",
   "metadata": {},
   "source": [
    "2 = (a) def\n",
    "\n",
    "3 = (a) return\n",
    "\n",
    "6 = (a) by value\n",
    "\n",
    "7 = (d) to demonstrate intellectual superiority\n",
    "\n",
    "10 = (a) mutable "
   ]
  },
  {
   "cell_type": "markdown",
   "metadata": {},
   "source": [
    "# 3. Programming Exercises: 1, 3, 4, 11, 12, 13"
   ]
  },
  {
   "cell_type": "markdown",
   "metadata": {},
   "source": [
    "# 1. write a program to print the lyrics of the song \"Old MacDonald\". Your program should print the lyrics for five different animals, similar to the example verse below. \n"
   ]
  },
  {
   "cell_type": "markdown",
   "metadata": {},
   "source": [
    "# Old MacDonald had a farm, Ee-igh, Ee-igh, Oh!\n",
    "# And on that farm he had a cow, Ee-igh, Ee-igh, Oh!\n",
    "# With a moo, moo here and moo, moo there.\n",
    "# Here a moo, there a moo, everywhere a moo, moo.\n",
    "# Old MacDonald had a farm, Ee-igh, Ee-igh, Oh!"
   ]
  },
  {
   "cell_type": "code",
   "execution_count": 156,
   "metadata": {},
   "outputs": [
    {
     "name": "stdout",
     "output_type": "stream",
     "text": [
      "Old MacDonald had a farm, Ee-igh, Ee-igh, Oh!\n",
      "And on that farm he had a cow, Ee-igh, Eei-gh, Oh!\n",
      "With a moo, moo here and a moo, moo there.\n",
      "Here a moo, there a moo, everywhere a moo, moo.\n",
      "\n",
      "Old MacDonald had a farm, Ee-igh, Ee-igh, Oh!\n",
      "And on that farm he had a cat, Ee-igh, Eei-gh, Oh!\n",
      "With a miau, miau here and a miau, miau there.\n",
      "Here a miau, there a miau, everywhere a miau, miau.\n",
      "\n",
      "Old MacDonald had a farm, Ee-igh, Ee-igh, Oh!\n",
      "And on that farm he had a dog, Ee-igh, Eei-gh, Oh!\n",
      "With a woof, woof here and a woof, woof there.\n",
      "Here a woof, there a woof, everywhere a woof, woof.\n",
      "\n",
      "Old MacDonald had a farm, Ee-igh, Ee-igh, Oh!\n",
      "And on that farm he had a duck, Ee-igh, Eei-gh, Oh!\n",
      "With a quack, quack here and a quack, quack there.\n",
      "Here a quack, there a quack, everywhere a quack, quack.\n",
      "\n",
      "Old MacDonald had a farm, Ee-igh, Ee-igh, Oh!\n",
      "And on that farm he had a bird, Ee-igh, Eei-gh, Oh!\n",
      "With a cucurr, cucurr here and a cucurr, cucurr there.\n",
      "Here a cucurr, there a cucurr, everywhere a cucurr, cucurr.\n",
      "\n"
     ]
    }
   ],
   "source": [
    "def animal (tipo_animal,sonido):\n",
    "    print (\"Old MacDonald had a farm, Ee-igh, Ee-igh, Oh!\")\n",
    "    print('And on that farm he had a ' + tipo_animal + ', Ee-igh, Eei-gh, Oh!')\n",
    "    print('With a ' + sonido + ', ' + sonido + ' here and a ' + sonido + ', ' + sonido + ' there.')\n",
    "    print('Here a ' + sonido + ', there a ' + sonido + ', everywhere a ' + sonido + ', ' + sonido + '.') \n",
    "\n",
    "def main():\n",
    "    animal(\"cow\", \"moo\")\n",
    "    print ()\n",
    "    animal(\"cat\", \"miau\")\n",
    "    print ()\n",
    "    animal(\"dog\", \"woof\")\n",
    "    print ()\n",
    "    animal(\"duck\", \"quack\")\n",
    "    print ()\n",
    "    animal (\"bird\", \"cucurr\")\n",
    "    print ()\n",
    "\n",
    "main ()"
   ]
  },
  {
   "cell_type": "markdown",
   "metadata": {},
   "source": [
    "# 3. Write definitions for these functions:\n",
    "\n",
    "sphereArea(radius) Returns the surface area of a sphere having the radius.\n",
    "\n",
    "sphereVolume(radius) Returns the volume of a sphere having the given radius.\n",
    "\n",
    "Use your functions to solve Programming Exercise 1 from Chapter 3. \n",
    "\n",
    "# Write a program to calculaate the volume and surface area of a sphere from its radius, given as input. Here are some formulas that might be useful:\n",
    "\n",
    "# V= 4/(3*(pi)*(r^3))\n",
    "\n",
    "# A= 4*(pi)*(r^2)\n"
   ]
  },
  {
   "cell_type": "code",
   "execution_count": 1,
   "metadata": {},
   "outputs": [],
   "source": [
    "#sphereArea(radius) : dado un nivel de radio da el valor del area de la esfera  \n",
    "\n",
    "#sphereVolume(radius) : dado un nivel de radio retorna el valor del volumen de la esfera "
   ]
  },
  {
   "cell_type": "markdown",
   "metadata": {},
   "source": [
    "# Volume and surface area of a sphere from its radius\n",
    "\n"
   ]
  },
  {
   "cell_type": "code",
   "execution_count": 63,
   "metadata": {},
   "outputs": [],
   "source": [
    "# Importamos la libreria de matemáticas para el valor pi. \n",
    "import math \n",
    "pi = math.pi \n",
    "  \n",
    "# Funcion para calcular el volumen de la esfera:\n",
    "def sphereVolume(radius): \n",
    "    V = (4 / 3) * pi *radius**3\n",
    "    return V \n",
    "  \n",
    "# Funcion para calcular el area de la superficie de la esfera:\n",
    "def sphereArea(radius): \n",
    "    A = 4 * pi *  radius**2\n",
    "    return A \n"
   ]
  },
  {
   "cell_type": "code",
   "execution_count": 67,
   "metadata": {},
   "outputs": [
    {
     "name": "stdout",
     "output_type": "stream",
     "text": [
      "el volumen de una esfera dado un radio de 2, es:\n"
     ]
    },
    {
     "data": {
      "text/plain": [
       "33.510321638291124"
      ]
     },
     "execution_count": 67,
     "metadata": {},
     "output_type": "execute_result"
    }
   ],
   "source": [
    "print (\"el volumen de una esfera dado un radio de 2, es:\")\n",
    "sphereVolume(2)"
   ]
  },
  {
   "cell_type": "code",
   "execution_count": 68,
   "metadata": {},
   "outputs": [
    {
     "name": "stdout",
     "output_type": "stream",
     "text": [
      "el area de una esfera dado un radio de 2, es:\n"
     ]
    },
    {
     "data": {
      "text/plain": [
       "50.26548245743669"
      ]
     },
     "execution_count": 68,
     "metadata": {},
     "output_type": "execute_result"
    }
   ],
   "source": [
    "print (\"el area de una esfera dado un radio de 2, es:\")\n",
    "sphereArea(2)"
   ]
  },
  {
   "cell_type": "markdown",
   "metadata": {},
   "source": [
    "# 4. Write definitions for the following two functions:\n",
    "\n",
    "sumN(n) returns the sum of the first n natural numbers.\n",
    "\n",
    "sumNCubes(n) returns the sum of the cubes of the first n natural numbers. \n",
    "\n",
    "Then use these functions in a program that prompts a user for n and prints out the sum of the first n natural numbers and the sum of the cubes of the first n natural numbers. "
   ]
  },
  {
   "cell_type": "code",
   "execution_count": 74,
   "metadata": {},
   "outputs": [],
   "source": [
    "# sumN(n): suma los primeros n Numeros naturales de una lista.\n",
    "# sumNCubes(n): suma de los cubos de los primeros N numeros naturales de una lista."
   ]
  },
  {
   "cell_type": "code",
   "execution_count": 69,
   "metadata": {},
   "outputs": [],
   "source": [
    "def sumN(n):\n",
    "    numero=0\n",
    "    for i in range(1,n+1):\n",
    "        numero = numero + i\n",
    "    return numero"
   ]
  },
  {
   "cell_type": "code",
   "execution_count": 72,
   "metadata": {},
   "outputs": [
    {
     "data": {
      "text/plain": [
       "55"
      ]
     },
     "execution_count": 72,
     "metadata": {},
     "output_type": "execute_result"
    }
   ],
   "source": [
    "sumN(10)"
   ]
  },
  {
   "cell_type": "code",
   "execution_count": 70,
   "metadata": {},
   "outputs": [],
   "source": [
    "def sumNCubes(n):\n",
    "    numero=0\n",
    "    for i in range(1,n+1):\n",
    "        numero = numero + i**3\n",
    "    return numero"
   ]
  },
  {
   "cell_type": "code",
   "execution_count": 73,
   "metadata": {
    "scrolled": true
   },
   "outputs": [
    {
     "data": {
      "text/plain": [
       "3025"
      ]
     },
     "execution_count": 73,
     "metadata": {},
     "output_type": "execute_result"
    }
   ],
   "source": [
    "sumNCubes(10)"
   ]
  },
  {
   "cell_type": "markdown",
   "metadata": {},
   "source": [
    "# 11. Write and test a function to meet this specification. \n",
    "\n",
    "sumList(nums) nums is a list of numbers. Modifies the list by squaring each entry. "
   ]
  },
  {
   "cell_type": "code",
   "execution_count": 100,
   "metadata": {},
   "outputs": [],
   "source": [
    "nums = [2,4,6,8,10]\n",
    "\n",
    "def squaring (nums):\n",
    "    print(\"retorna cada numero de la lista al cuadrado\")\n",
    "    for i in list(range(len(nums))):\n",
    "        nums [i] = nums[i]**2\n",
    "    \n",
    "    return nums\n",
    "\n"
   ]
  },
  {
   "cell_type": "code",
   "execution_count": 103,
   "metadata": {},
   "outputs": [
    {
     "name": "stdout",
     "output_type": "stream",
     "text": [
      "retorna cada numero de la lista al cuadrado\n"
     ]
    },
    {
     "data": {
      "text/plain": [
       "[4, 16, 36, 64, 100]"
      ]
     },
     "execution_count": 103,
     "metadata": {},
     "output_type": "execute_result"
    }
   ],
   "source": [
    "squaring (nums)"
   ]
  },
  {
   "cell_type": "markdown",
   "metadata": {},
   "source": [
    "# 12. Write and test a function to meet this specification. \n",
    "\n",
    "sumList(nums) nums is a list of numbers. Returns the sum of the numbers in the list."
   ]
  },
  {
   "cell_type": "code",
   "execution_count": 119,
   "metadata": {},
   "outputs": [],
   "source": [
    "nums = [1,2,4,6,8,10]\n",
    "\n",
    "def sumList (nums):\n",
    "    print(\"Returns the sum of the numbers in the list.\")\n",
    "    for i in list(range(1,len(nums))):\n",
    "        nums [i] = nums[i] + nums[i-1]\n",
    "    \n",
    "    return nums"
   ]
  },
  {
   "cell_type": "code",
   "execution_count": 120,
   "metadata": {},
   "outputs": [
    {
     "name": "stdout",
     "output_type": "stream",
     "text": [
      "Returns the sum of the numbers in the list.\n"
     ]
    },
    {
     "data": {
      "text/plain": [
       "[1, 3, 7, 13, 21, 31]"
      ]
     },
     "execution_count": 120,
     "metadata": {},
     "output_type": "execute_result"
    }
   ],
   "source": [
    "sumList (nums)"
   ]
  },
  {
   "cell_type": "markdown",
   "metadata": {},
   "source": [
    "# 13. Write and test a function to meet this specification.\n",
    "\n",
    "toNumbers(strList) strList is a list of strings, each of which represents a number. Modifies each entry in the list by converting it to a number. "
   ]
  },
  {
   "cell_type": "code",
   "execution_count": 126,
   "metadata": {},
   "outputs": [],
   "source": [
    "strList = [ \"1\", \"2\", \"3\"]\n",
    "\n",
    "def toNumbers(strList): \n",
    "    print (\"Retornar cada string en un numero\")\n",
    "    for i in list(range(len(strList))):\n",
    "        strList [i] = int(strList[i])\n",
    "        \n",
    "    return strList \n",
    "    "
   ]
  },
  {
   "cell_type": "code",
   "execution_count": 127,
   "metadata": {
    "scrolled": true
   },
   "outputs": [
    {
     "name": "stdout",
     "output_type": "stream",
     "text": [
      "Retornar cada string en un numero\n"
     ]
    },
    {
     "data": {
      "text/plain": [
       "[1, 2, 3]"
      ]
     },
     "execution_count": 127,
     "metadata": {},
     "output_type": "execute_result"
    }
   ],
   "source": [
    "toNumbers(strList)"
   ]
  }
 ],
 "metadata": {
  "anaconda-cloud": {},
  "kernelspec": {
   "display_name": "Python 3",
   "language": "python",
   "name": "python3"
  },
  "language_info": {
   "codemirror_mode": {
    "name": "ipython",
    "version": 3
   },
   "file_extension": ".py",
   "mimetype": "text/x-python",
   "name": "python",
   "nbconvert_exporter": "python",
   "pygments_lexer": "ipython3",
   "version": "3.7.4"
  }
 },
 "nbformat": 4,
 "nbformat_minor": 1
}
