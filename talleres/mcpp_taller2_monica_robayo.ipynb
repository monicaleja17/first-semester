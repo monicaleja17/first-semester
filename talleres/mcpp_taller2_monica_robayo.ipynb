{
 "cells": [
  {
   "cell_type": "markdown",
   "metadata": {},
   "source": [
    "# Taller 2\n",
    "Métodos Computacionales para Políticas Públicas - URosario\n",
    "\n",
    "**Entrega: viernes 14-feb-2020 11:59 PM**"
   ]
  },
  {
   "cell_type": "markdown",
   "metadata": {},
   "source": [
    "<div class=\"alert alert-success\">\n",
    "\n",
    "**[Monica Alejandra Robayo Gonzalez]** <br><br>\n",
    "[monica.robayo@urosario.edu.co]\n",
    "</div>"
   ]
  },
  {
   "cell_type": "markdown",
   "metadata": {},
   "source": [
    "## Instrucciones:\n",
    "- Guarde una copia de este *Jupyter Notebook* en su computador, idealmente en una carpeta destinada al material del curso.\n",
    "- Modifique el nombre del archivo del *notebook*, agregando al final un guión inferior y su nombre y apellido, separados estos últimos por otro guión inferior. Por ejemplo, mi *notebook* se llamaría: mcpp_taller2_santiago_matallana\n",
    "- Marque el *notebook* con su nombre y e-mail en el bloque verde arriba. Reemplace el texto \"[Su nombre acá]\" con su nombre y apellido. Similar para su e-mail.\n",
    "- Desarrolle la totalidad del taller sobre este *notebook*, insertando las celdas que sea necesario debajo de cada pregunta. Haga buen uso de las celdas para código y de las celdas tipo *markdown* según el caso.\n",
    "- Recuerde salvar periódicamente sus avances.\n",
    "- Cuando termine el taller:\n",
    "    1. Descárguelo en PDF.\n",
    "    2. Suba los dos archivos (.pdf y .ipynb) a su repositorio en GitHub antes de la fecha y hora límites.\n",
    "\n",
    "(El valor de cada ejercicio está en corchetes [ ] después del número de ejercicio.)"
   ]
  },
  {
   "cell_type": "markdown",
   "metadata": {},
   "source": [
    "---"
   ]
  },
  {
   "cell_type": "markdown",
   "metadata": {},
   "source": [
    "## 1. [1]\n",
    "\n",
    "[Pensar como un computador] Considere el siguiente código:"
   ]
  },
  {
   "cell_type": "raw",
   "metadata": {},
   "source": [
    "if x > 2:\n",
    "    if y > 2:\n",
    "        z = x + y\n",
    "        print(\"z es\", z)\n",
    "else:\n",
    "    print(x)"
   ]
  },
  {
   "cell_type": "markdown",
   "metadata": {},
   "source": [
    "¿Cuál es el resultado si\n",
    "\n",
    "a)  x = 2, y = 5?\n",
    "\n",
    "b)  x = 3, y = 1?\n",
    "\n",
    "c)  x = 1, y = 1? \n",
    "\n",
    "d)  x = 4, y = 3?"
   ]
  },
  {
   "cell_type": "markdown",
   "metadata": {},
   "source": [
    "# a) x = 2, y= 5?"
   ]
  },
  {
   "cell_type": "code",
   "execution_count": 62,
   "metadata": {},
   "outputs": [
    {
     "name": "stdout",
     "output_type": "stream",
     "text": [
      "2\n"
     ]
    }
   ],
   "source": [
    "x = 2\n",
    "y = 5\n",
    "\n",
    "if x > 2: #la condicion no se cumple \n",
    "    if y > 2: # la condicion se cumple \n",
    "        z = x + y # como la condicion x > 2 no se cumple, el programa toma como salida else y no realiza la suma. \n",
    "        print(\"z es\", z)\n",
    "else:\n",
    "    print(x) # el programa imprime x, toda vez que la condicion de arriba no se cumple. El resultado seria 2"
   ]
  },
  {
   "cell_type": "markdown",
   "metadata": {},
   "source": [
    "# b) x = 3, y = 1?"
   ]
  },
  {
   "cell_type": "code",
   "execution_count": 58,
   "metadata": {},
   "outputs": [],
   "source": [
    "x = 3\n",
    "y = 1\n",
    "\n",
    "if x > 2: #la condicion se cumple \n",
    "    if y > 2:# la condicion no se cumple \n",
    "        z = x + y\n",
    "        print(\"z es\", z)\n",
    "else:\n",
    "    print(x) #el programa no ejecuta este else, toda vez que corresponde al primer if x>2"
   ]
  },
  {
   "cell_type": "code",
   "execution_count": 65,
   "metadata": {},
   "outputs": [
    {
     "name": "stdout",
     "output_type": "stream",
     "text": [
      "3\n"
     ]
    }
   ],
   "source": [
    "#si queremos ejecutar print (x) del segundo if,ponemos un else dentro del segundo if, asi:  \n",
    "x = 3\n",
    "y = 1\n",
    "\n",
    "if x > 2: #la condicion se cumple \n",
    "    if y > 2: # la condicion no se cumple \n",
    "        z = x + y\n",
    "        print(\"z es\", z)\n",
    "    else:\n",
    "        print(x) # como la segunda condicion no se cumple, el programa ejecuta x, lo que seria igual a 3."
   ]
  },
  {
   "cell_type": "markdown",
   "metadata": {},
   "source": [
    "# c) x = 1, y = 1?"
   ]
  },
  {
   "cell_type": "code",
   "execution_count": 67,
   "metadata": {},
   "outputs": [
    {
     "name": "stdout",
     "output_type": "stream",
     "text": [
      "1\n"
     ]
    }
   ],
   "source": [
    "x = 1\n",
    "y = 1\n",
    "\n",
    "if x > 2: #la condicion no se cumple \n",
    "    if y > 2: #la condicion no se cumple \n",
    "        z = x + y #ninguna de las dos condiciones son ciertas, el programa toma como salida else y no realiza la suma. \n",
    "        print(\"z es\", z)\n",
    "else:\n",
    "    print(x)  # el programa imprime x, toda vez que las condiciones de arriba no se cumplen. El resultado seria 1"
   ]
  },
  {
   "cell_type": "markdown",
   "metadata": {},
   "source": [
    "# d) x = 4, y = 3?"
   ]
  },
  {
   "cell_type": "code",
   "execution_count": 41,
   "metadata": {},
   "outputs": [
    {
     "name": "stdout",
     "output_type": "stream",
     "text": [
      "z es 7\n"
     ]
    }
   ],
   "source": [
    "x = 4\n",
    "y = 3\n",
    "\n",
    "if x > 2: #la condicion se cumple\n",
    "    if y > 2: #la condicion se cumple\n",
    "        z = x + y # como las dos condiciones se cumplen, el programa realiza la suma x + y\n",
    "        print(\"z es\", z) #el resultado es 7 \n",
    "else:\n",
    "    print(x) # el programa no ejecuta el else, toda vez que las condiciones de arriba son ciertas "
   ]
  },
  {
   "cell_type": "markdown",
   "metadata": {},
   "source": [
    "-----"
   ]
  },
  {
   "cell_type": "markdown",
   "metadata": {},
   "source": [
    "## 2. [1]\n",
    "[Pensar como un computador] ¿Cuál es el resultado del siguiente código y cuántas veces se recorre el loop?"
   ]
  },
  {
   "cell_type": "raw",
   "metadata": {},
   "source": [
    "i = 0\n",
    "while i < 10: \n",
    "    i = i + 1\n",
    "    if i % 2 == 0:\n",
    "        print(i)"
   ]
  },
  {
   "cell_type": "code",
   "execution_count": 48,
   "metadata": {},
   "outputs": [
    {
     "name": "stdout",
     "output_type": "stream",
     "text": [
      "2\n",
      "4\n",
      "6\n",
      "8\n",
      "10\n"
     ]
    }
   ],
   "source": [
    "i = 0 #el programa ejecuta la primera instrucción donde i = 0\n",
    "while i < 10: #se ejecuta la condicion del while, como la condición se cumple,el programa ejecuta la instrucción donde i<10 \n",
    "    i = i + 1 #enseguida lo que hace el programa es ejecutar los otros dos bloques donde i=i+1\n",
    "    if i % 2 == 0:# entonces si el residuo de i%2 es cero, el programa imprime todos los i donde el residuo sea cero. \n",
    "        print(i)"
   ]
  },
  {
   "cell_type": "markdown",
   "metadata": {},
   "source": [
    "# Paso a Paso "
   ]
  },
  {
   "cell_type": "code",
   "execution_count": 4,
   "metadata": {},
   "outputs": [],
   "source": [
    "i = 0 # primera instrucción i=0"
   ]
  },
  {
   "cell_type": "code",
   "execution_count": 56,
   "metadata": {},
   "outputs": [
    {
     "data": {
      "text/plain": [
       "True"
      ]
     },
     "execution_count": 56,
     "metadata": {},
     "output_type": "execute_result"
    }
   ],
   "source": [
    "i < 10 # la condición es que i sea menor que 10, como se cumple el programa ejecuta los siguientes dos bloques"
   ]
  },
  {
   "cell_type": "code",
   "execution_count": 57,
   "metadata": {},
   "outputs": [],
   "source": [
    "i = i + 1 # se modifica la variable i=0 por i = i+1 "
   ]
  },
  {
   "cell_type": "code",
   "execution_count": 55,
   "metadata": {
    "scrolled": true
   },
   "outputs": [
    {
     "name": "stdout",
     "output_type": "stream",
     "text": [
      "1\n",
      "2\n",
      "3\n",
      "4\n",
      "5\n",
      "6\n",
      "7\n",
      "8\n",
      "9\n",
      "10\n"
     ]
    }
   ],
   "source": [
    "#el programa ejecuta la operación donde i = i+1 teniendo en cuenta que i<10, toma unicamente los numeros de 0 a 9. \n",
    "print (0 + 1)\n",
    "print (1 + 1)\n",
    "print (2 + 1)\n",
    "print (3 + 1)\n",
    "print (4 + 1)\n",
    "print (5 + 1)\n",
    "print (6 + 1)\n",
    "print (7 + 1)\n",
    "print (8 + 1)\n",
    "print (9 + 1)"
   ]
  },
  {
   "cell_type": "code",
   "execution_count": 59,
   "metadata": {},
   "outputs": [
    {
     "name": "stdout",
     "output_type": "stream",
     "text": [
      "1\n",
      "0\n",
      "1\n",
      "0\n",
      "1\n",
      "0\n",
      "1\n",
      "0\n",
      "1\n",
      "0\n"
     ]
    }
   ],
   "source": [
    "# una vez el programa tenga los valores de i, realiza la siguiente instrucción i%2\n",
    "print (1 % 2)\n",
    "print (2 % 2)\n",
    "print (3 % 2)\n",
    "print (4 % 2)\n",
    "print (5 % 2)\n",
    "print (6 % 2)\n",
    "print (7 % 2)\n",
    "print (8 % 2)\n",
    "print (9 % 2)\n",
    "print (10 % 2)"
   ]
  },
  {
   "cell_type": "code",
   "execution_count": 62,
   "metadata": {},
   "outputs": [
    {
     "name": "stdout",
     "output_type": "stream",
     "text": [
      "0\n",
      "0\n",
      "0\n",
      "0\n",
      "0\n"
     ]
    }
   ],
   "source": [
    "# sin embargo como la instrucción incluye que el residuo del cociente sea igual a cero, el programa solo toma aquella division que cumple con la condicion, asi:\n",
    "print (2 % 2) \n",
    "print (4 % 2) \n",
    "print (6 % 2)\n",
    "print (8 % 2)\n",
    "print (10 % 2)"
   ]
  },
  {
   "cell_type": "code",
   "execution_count": 63,
   "metadata": {
    "scrolled": true
   },
   "outputs": [
    {
     "name": "stdout",
     "output_type": "stream",
     "text": [
      "2\n",
      "4\n",
      "6\n",
      "8\n",
      "10\n"
     ]
    }
   ],
   "source": [
    "# por ultimo la instrucción indica que el programa solo debe imprimir aquellos resultados de i, donde el residuo de i%2 sea cero, por tanto solo imprime los siguientes resultados: \n",
    "print (1 + 1)\n",
    "print (3 + 1)\n",
    "print (5 + 1)\n",
    "print (7 + 1)\n",
    "print (9 + 1)"
   ]
  },
  {
   "cell_type": "code",
   "execution_count": null,
   "metadata": {},
   "outputs": [],
   "source": [
    "# como resultado del codigo tenemos que es : 2,4,6,8,10 y el loop se estaria corriendo 10 veces (desde cero hasta 9), y solo imprime lo que dice la instrucción (residuos iguales a cero) "
   ]
  },
  {
   "cell_type": "markdown",
   "metadata": {},
   "source": [
    "---"
   ]
  },
  {
   "cell_type": "markdown",
   "metadata": {},
   "source": [
    "## 3. [1]\n",
    "[Pensar como un computador] ¿Cuál es el resultado del siguiente código y cuántas veces se recorre el loop?"
   ]
  },
  {
   "cell_type": "raw",
   "metadata": {},
   "source": [
    "i = 0\n",
    "while i > 10:\n",
    "    i = i + 1\n",
    "    if i % 2 == 0:\n",
    "        print(i)"
   ]
  },
  {
   "cell_type": "code",
   "execution_count": 64,
   "metadata": {},
   "outputs": [],
   "source": [
    "i = 0 # la instrucción es que la  variable i es igual a cero (0)\n",
    "while i > 10: # se comprueba si la variable (i > 10), como la condicion no se cumple, los dos bloques siguientes no se ejecutan. \n",
    "    i = i + 1\n",
    "    if i % 2 == 0:\n",
    "        print(i)"
   ]
  },
  {
   "cell_type": "code",
   "execution_count": null,
   "metadata": {},
   "outputs": [],
   "source": [
    "# Respuesta: el código no se ejecuta toda vez que la condición no se cumple, por tanto el loop no es ejecutado. "
   ]
  },
  {
   "cell_type": "markdown",
   "metadata": {},
   "source": [
    "---"
   ]
  },
  {
   "cell_type": "markdown",
   "metadata": {},
   "source": [
    "## 4.  [2]\n",
    "Escriba un programa que pida al usuario ingresar un número entero, y que imprima \"par\" si el número es par e \"impar\" si el número es impar. Agregue a su programa un código que genere una advertencia en caso de que el usuario ingrese algo diferente a un número entero: \"Error. El usuario debe ingresar un número entero.\" (Investigue por su cuenta cómo lograr dicha validación y la generación del mensaje.)"
   ]
  },
  {
   "cell_type": "code",
   "execution_count": null,
   "metadata": {},
   "outputs": [],
   "source": [
    "# para este punto consulte las excepciones en python, lo que se llama \"try\" y \"except\", los cuales sirven para ejecutar en bloque el codigo, esto es: si se cumple lo que esta dentro del \"try\" es decir la declaracion, el programa ejecuta el \"try\", de lo contrario aplica una excepcion. "
   ]
  },
  {
   "cell_type": "code",
   "execution_count": 3,
   "metadata": {},
   "outputs": [
    {
     "name": "stdout",
     "output_type": "stream",
     "text": [
      "par e impar\n",
      "digame un numero entero\n",
      "10\n",
      "el numero es par\n"
     ]
    }
   ],
   "source": [
    "print (\"par e impar\")\n",
    "\n",
    "try: \n",
    "    print (\"digame un numero entero\")\n",
    "    num = int(input())\n",
    "    if type (num) == int:\n",
    "        if num % 2 == 0:\n",
    "            print(\"el numero es par\")\n",
    "        \n",
    "        else:\n",
    "            print(\"el numero es impar\")\n",
    "    \n",
    "except:\n",
    "    print (\"Error. El usuario debe ingresar un número entero\")\n",
    "    "
   ]
  },
  {
   "cell_type": "code",
   "execution_count": 4,
   "metadata": {},
   "outputs": [
    {
     "name": "stdout",
     "output_type": "stream",
     "text": [
      "par e impar\n",
      "digame un numero entero\n",
      "9\n",
      "el numero es impar\n"
     ]
    }
   ],
   "source": [
    "print (\"par e impar\")\n",
    "\n",
    "try: \n",
    "    print (\"digame un numero entero\")\n",
    "    num = int(input())\n",
    "    if type (num) == int:\n",
    "        if num % 2 == 0:\n",
    "            print(\"el numero es par\")\n",
    "        \n",
    "        else:\n",
    "            print(\"el numero es impar\")\n",
    "    \n",
    "except:\n",
    "    print (\"Error. El usuario debe ingresar un número entero\")\n",
    "    "
   ]
  },
  {
   "cell_type": "code",
   "execution_count": 5,
   "metadata": {},
   "outputs": [
    {
     "name": "stdout",
     "output_type": "stream",
     "text": [
      "par e impar\n",
      "digame un numero entero\n",
      "sdf\n",
      "Error. El usuario debe ingresar un número entero\n"
     ]
    }
   ],
   "source": [
    "print (\"par e impar\")\n",
    "\n",
    "try: \n",
    "    print (\"digame un numero entero\")\n",
    "    num = int(input())\n",
    "    if type (num) == int:\n",
    "        if num % 2 == 0:\n",
    "            print(\"el numero es par\")\n",
    "        \n",
    "        else:\n",
    "            print(\"el numero es impar\")\n",
    "    \n",
    "except:\n",
    "    print (\"Error. El usuario debe ingresar un número entero\")\n",
    "    "
   ]
  },
  {
   "cell_type": "markdown",
   "metadata": {},
   "source": [
    "---"
   ]
  },
  {
   "cell_type": "markdown",
   "metadata": {},
   "source": [
    "## 5.  [2]\n",
    "Escriba un <font face=\"consolas\">for</font> loop que imprima todos los múltiplos de 3 desde 40 hasta 0 en orden decreciente. Esto es, 39, 36, 33,..., 3, 0."
   ]
  },
  {
   "cell_type": "code",
   "execution_count": 29,
   "metadata": {},
   "outputs": [
    {
     "name": "stdout",
     "output_type": "stream",
     "text": [
      "39\n",
      "36\n",
      "33\n",
      "30\n",
      "27\n",
      "24\n",
      "21\n",
      "18\n",
      "15\n",
      "12\n",
      "9\n",
      "6\n",
      "3\n",
      "0\n"
     ]
    }
   ],
   "source": [
    "for multiplo in range (40,-1,-1):\n",
    "    if (multiplo % 3) == 0:\n",
    "        print (multiplo)"
   ]
  },
  {
   "cell_type": "markdown",
   "metadata": {},
   "source": [
    "---"
   ]
  },
  {
   "cell_type": "markdown",
   "metadata": {},
   "source": [
    "## 6. [2]\n",
    "Escriba un loop que imprima todos los números entre 6 y 30 que no son divisibles por 2 o 3 o 5."
   ]
  },
  {
   "cell_type": "code",
   "execution_count": 2,
   "metadata": {},
   "outputs": [
    {
     "name": "stdout",
     "output_type": "stream",
     "text": [
      "6 No es divisible por 5\n",
      "7 No es divisible por 2\n",
      "7 No es divisible por 3\n",
      "7 No es divisible por 5\n",
      "8 No es divisible por 3\n",
      "8 No es divisible por 5\n",
      "9 No es divisible por 2\n",
      "9 No es divisible por 5\n",
      "10 No es divisible por 3\n",
      "11 No es divisible por 2\n",
      "11 No es divisible por 3\n",
      "11 No es divisible por 5\n",
      "12 No es divisible por 5\n",
      "13 No es divisible por 2\n",
      "13 No es divisible por 3\n",
      "13 No es divisible por 5\n",
      "14 No es divisible por 3\n",
      "14 No es divisible por 5\n",
      "15 No es divisible por 2\n",
      "16 No es divisible por 3\n",
      "16 No es divisible por 5\n",
      "17 No es divisible por 2\n",
      "17 No es divisible por 3\n",
      "17 No es divisible por 5\n",
      "18 No es divisible por 5\n",
      "19 No es divisible por 2\n",
      "19 No es divisible por 3\n",
      "19 No es divisible por 5\n",
      "20 No es divisible por 3\n",
      "21 No es divisible por 2\n",
      "21 No es divisible por 5\n",
      "22 No es divisible por 3\n",
      "22 No es divisible por 5\n",
      "23 No es divisible por 2\n",
      "23 No es divisible por 3\n",
      "23 No es divisible por 5\n",
      "24 No es divisible por 5\n",
      "25 No es divisible por 2\n",
      "25 No es divisible por 3\n",
      "26 No es divisible por 3\n",
      "26 No es divisible por 5\n",
      "27 No es divisible por 2\n",
      "27 No es divisible por 5\n",
      "28 No es divisible por 3\n",
      "28 No es divisible por 5\n",
      "29 No es divisible por 2\n",
      "29 No es divisible por 3\n",
      "29 No es divisible por 5\n"
     ]
    }
   ],
   "source": [
    "for x in range(6,31):\n",
    "    if (x % 2) !=0:\n",
    "        print (x, \"No es divisible por 2\")\n",
    "    if (x % 3) !=0:  \n",
    "        print (x, \"No es divisible por 3\")\n",
    "    if (x % 5) !=0:\n",
    "        print (x, \"No es divisible por 5\")\n",
    "        "
   ]
  },
  {
   "cell_type": "markdown",
   "metadata": {},
   "source": [
    "---"
   ]
  },
  {
   "cell_type": "markdown",
   "metadata": {},
   "source": [
    "## 7. [4]\n",
    "Escriba un programa llamado \"Adivine ni número\". El computador generará aleatoriamente un entero entre 1 y 100. El usuario digita un número y el computador responde \"Menor\" si el número aleatorio es menor que el escogido por el usuario, \"Mayor\" si el número aleatorio es mayor, y \"¡Correcto!\" si el usuario adivina el número. El jugador puede continuar ingresando números hasta que adivine correctamente.\n",
    "\n",
    "**Ejemplo:**\n",
    "- El número aleatorio es 79.\n",
    "- El computador muestra el texto \"Adivine el número entre 1 y 100:\" y espera a que el usuario lo digite.\n",
    "- El usuario digita el número que está abajo en itálicas.\n",
    "- El computador devuelve uno de tres textos, según el caso: \"Mayor\", \"Menor\", o \"¡Correcto!\"."
   ]
  },
  {
   "cell_type": "markdown",
   "metadata": {},
   "source": [
    "<font color=\"green\">Adivine el número entre 1 y 100: *40*<br>\n",
    "<font face=\"consolas\">Mayor</font><br><br>\n",
    "Adivine el número entre 1 y 100: *70*<br>\n",
    "<font face=\"consolas\">Mayor</font><br><br>\n",
    "Adivine el número entre 1 y 100: *80*<br>\n",
    "<font face=\"consolas\">Menor</font><br><br>\n",
    "Adivine el número entre 1 y 100: *77*<br>\n",
    "<font face=\"consolas\">Mayor</font><br><br>\n",
    "Adivine el número entre 1 y 100: *79*<br>\n",
    "<font face=\"consolas\">¡Correcto!</font></font>"
   ]
  },
  {
   "cell_type": "markdown",
   "metadata": {},
   "source": [
    "**¿Cómo generar números aleatorios en Python?**\n",
    "\n",
    "- Al comienzo de su programa escriba: <font face=\"consolas\" color=\"green\">import random</font>\n",
    "- Para generar un número aleatorio entre 1 y 100 escriba: <font face=\"consolas\" color=\"green\">random.randint(1, 100)</font>\n"
   ]
  },
  {
   "cell_type": "markdown",
   "metadata": {},
   "source": [
    "**Pistas:**\n",
    "\n",
    "- Piense en qué estructuras de control le sirven para resolver el problema.\n",
    "- ¿Cómo determina si el número es mayor, menor o correcto?\n",
    "- ¿Cómo le da turnos adicionales al usuario para adivinar, dependiendo de si en el turno anterior adivinó o no?"
   ]
  },
  {
   "cell_type": "code",
   "execution_count": 1,
   "metadata": {},
   "outputs": [
    {
     "name": "stdout",
     "output_type": "stream",
     "text": [
      "Adivine mi número\n",
      "50\n",
      "50 Mayor\n",
      "Ingresa un numero entre 1 y 100: 40\n",
      "40 Mayor\n",
      "Ingresa un numero entre 1 y 100: 10\n",
      "10 Menor\n",
      "Ingresa un numero entre 1 y 100: 20\n",
      "20 Mayor\n",
      "Ingresa un numero entre 1 y 100: 15\n",
      "15 ¡Correcto!\n"
     ]
    }
   ],
   "source": [
    "print (\"Adivine mi número\")\n",
    "import random\n",
    "y = random.randint(1, 100)\n",
    "\n",
    "x = int(input())\n",
    "\n",
    "while x!=y:\n",
    "    \n",
    " if x<y:\n",
    "        print (x,\"Menor\")\n",
    "        x=int (input(\"Ingresa un numero entre 1 y 100: \"))\n",
    "           \n",
    " elif x>y:\n",
    "        print (x,\"Mayor\")\n",
    "        x=int (input(\"Ingresa un numero entre 1 y 100: \"))     \n",
    "else:\n",
    "    print(x,\"¡Correcto!\")\n",
    "         "
   ]
  },
  {
   "cell_type": "markdown",
   "metadata": {},
   "source": [
    "---"
   ]
  }
 ],
 "metadata": {
  "anaconda-cloud": {},
  "kernelspec": {
   "display_name": "Python 3",
   "language": "python",
   "name": "python3"
  },
  "language_info": {
   "codemirror_mode": {
    "name": "ipython",
    "version": 3
   },
   "file_extension": ".py",
   "mimetype": "text/x-python",
   "name": "python",
   "nbconvert_exporter": "python",
   "pygments_lexer": "ipython3",
   "version": "3.7.4"
  }
 },
 "nbformat": 4,
 "nbformat_minor": 1
}
